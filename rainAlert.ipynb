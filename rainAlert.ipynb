{
 "cells": [
  {
   "cell_type": "markdown",
   "metadata": {},
   "source": [
    "# Rain Alert\n",
    "\n",
    "Project idea comes from [Automate the Boring Stuff with Python](https://automatetheboringstuff.com)."
   ]
  },
  {
   "cell_type": "markdown",
   "metadata": {},
   "source": [
    "### Launch the Browser with webbrowser Module\n",
    "The webbrowser module's ```open()``` function can launch a new browser to a specified URL. This is about the only thing the webbrowser module can do, and it helps the launch the weather.com page of my zipcode."
   ]
  },
  {
   "cell_type": "code",
   "execution_count": null,
   "metadata": {},
   "outputs": [],
   "source": [
    "import webbrowser\n",
    "webbrowser.open('https://weather.com/weather/hourbyhour/l/10171:4:US')"
   ]
  },
  {
   "cell_type": "markdown",
   "metadata": {},
   "source": [
    "### Download a Web Page with the ```requests.get()``` Function\n",
    "\n",
    "The ```requests.get()``` function takes a string of a URL to download, which returns a Response object.\n",
    "\n",
    "The ```raise_for_status()``` method on this Response object provides a simple way to check download status. An exception will be raised if there was an error doanloading the file and will do nothing otherwise. The ```raise_for_status()``` method is a good way to ensure that the program halts in the event of a bad download."
   ]
  },
  {
   "cell_type": "code",
   "execution_count": 2,
   "metadata": {},
   "outputs": [
    {
     "name": "stdout",
     "output_type": "stream",
     "text": [
      "<class 'requests.models.Response'>\n"
     ]
    }
   ],
   "source": [
    "import requests\n",
    "\n",
    "res =  requests.get('https://weather.com/weather/hourbyhour/l/10171:4:US')\n",
    "print(type(res))\n",
    "res.raise_for_status()"
   ]
  },
  {
   "cell_type": "markdown",
   "metadata": {},
   "source": [
    "### Parsing HTML with the BeautifulSoup Module\n",
    "\n",
    "Beautiful Soup is a modeule for extracting information from an HTML page. The ```bs4.BeautifulSoup()``` function returns is a BeautifulSoup object."
   ]
  },
  {
   "cell_type": "code",
   "execution_count": 8,
   "metadata": {},
   "outputs": [
    {
     "data": {
      "text/plain": [
       "bs4.BeautifulSoup"
      ]
     },
     "execution_count": 8,
     "metadata": {},
     "output_type": "execute_result"
    }
   ],
   "source": [
    "import bs4\n",
    "\n",
    "weather = bs4.BeautifulSoup(res.text, 'lxml')\n",
    "type(weather)"
   ]
  },
  {
   "cell_type": "markdown",
   "metadata": {},
   "source": [
    "You can view the source HTML with Browser's Developer Tools, and extract the weather information of your need. \n",
    "I need weather of the next 10 hours so I did the following. Since the order of the span elements vary by days, I just grabbed all weather elements of next 10 hours."
   ]
  },
  {
   "cell_type": "code",
   "execution_count": 7,
   "metadata": {},
   "outputs": [],
   "source": [
    "spanElems = weather.select('span')\n",
    "\n",
    "next10 = []\n",
    "for i in range(0,120):\n",
    "    next10.append(spanElems[101 + i].get_text())"
   ]
  },
  {
   "cell_type": "markdown",
   "metadata": {},
   "source": [
    "### Send SMS with Twilio's REST API\n",
    "\n",
    "I used Twilio's REST API to send outgoing SMS messages from my Twilio phone number. For my free trial account, I can send messages to the number I signed up Twilio with. You can always upgrade your account to send SMS to any phone number. Here are some helpful instructions from [Twilio Help](https://www.twilio.com/docs/sms/send-messages#send-an-sms-with-twilios-api)."
   ]
  },
  {
   "cell_type": "code",
   "execution_count": null,
   "metadata": {},
   "outputs": [],
   "source": [
    "def twilioAlert():\n",
    "    \n",
    "    from twilio.rest import Client\n",
    "    client = Client(\"your_twilio_account_SID\", \"your_auth_token\")\n",
    "\n",
    "    # the \"from_\" number is your Twilio number \n",
    "    # the \"to\" number is the one you signed up for Twilio with, \n",
    "    client.messages.create(to = \"+1XXXXXXXXXX\", \n",
    "                           from_= \"+1XXXXXXXXXX\", \n",
    "                           body = \"Rain Alert!\")"
   ]
  },
  {
   "cell_type": "code",
   "execution_count": null,
   "metadata": {},
   "outputs": [],
   "source": [
    "rainCheck = False\n",
    "for next in next10:\n",
    "    if \"Rain\" in next or \"Shower\" in next:\n",
    "        rainCheck = True\n",
    "        \n",
    "if (rainCheck):\n",
    "    twilioAlert()"
   ]
  },
  {
   "cell_type": "markdown",
   "metadata": {},
   "source": [
    "### Schedule Alert with crontab on Mac OS X \n",
    "\n",
    "I prefer to run my script automatically every weekdays at 8:15Am. I use ```crontab```, which is a scheduling tool that will run scripts at regular intervals. \n",
    "\n",
    "You can run following coede base on your need from Terminal. Bare in mind that crontab doesn’t read your startup settings from .bashrc for instance, thus you need to let it know where python is installed. \n",
    "\n",
    "```15 08 * * * ../../anaconda3/bin/python Python_Projects/rainAlert.py```"
   ]
  },
  {
   "cell_type": "markdown",
   "metadata": {},
   "source": [
    "###   Le Voilà !\n",
    "\n",
    "![](https://raw.githubusercontent.com/boneyball/Rain_Alert/master/images/twilio_SMS.jpg?token=ATsBLUPxm_-eCvjC0tgBPbmefCZRVn60ks5ccsMxwA%3D%3D)"
   ]
  },
  {
   "cell_type": "code",
   "execution_count": null,
   "metadata": {},
   "outputs": [],
   "source": []
  }
 ],
 "metadata": {
  "kernelspec": {
   "display_name": "Python 3",
   "language": "python",
   "name": "python3"
  },
  "language_info": {
   "codemirror_mode": {
    "name": "ipython",
    "version": 3
   },
   "file_extension": ".py",
   "mimetype": "text/x-python",
   "name": "python",
   "nbconvert_exporter": "python",
   "pygments_lexer": "ipython3",
   "version": "3.6.5"
  }
 },
 "nbformat": 4,
 "nbformat_minor": 2
}
